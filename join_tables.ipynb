{
 "cells": [
  {
   "cell_type": "code",
   "execution_count": 1,
   "metadata": {},
   "outputs": [],
   "source": [
    "# imports\n",
    "import os\n",
    "import pandas as pd"
   ]
  },
  {
   "cell_type": "code",
   "execution_count": 2,
   "metadata": {},
   "outputs": [],
   "source": [
    "# define base path\n",
    "base_path = os.getcwd()\n",
    "\n",
    "# load data\n",
    "df_airports_geolocation = pd.read_csv(os.path.join (base_path, \"data\", \"raw\", \"airports_geolocation.csv\"))\n",
    "df_cancelled_diverted = pd.read_csv(os.path.join (base_path, \"data\", \"raw\", \"Cancelled_Diverted_2023.csv\"))\n",
    "df_flights = pd.read_csv(os.path.join (base_path, \"data\", \"raw\", \"US_flights_2023.csv\"))\n",
    "df_meteo = pd.read_csv(os.path.join (base_path, \"data\", \"raw\", \"weather_meteo_by_airport.csv\"))"
   ]
  },
  {
   "cell_type": "code",
   "execution_count": 3,
   "metadata": {},
   "outputs": [],
   "source": [
    "# perform left join on airports geolocation\n",
    "df_master = df_flights.merge(\n",
    "    df_airports_geolocation,\n",
    "    left_on=\"Dep_Airport\",\n",
    "    right_on=\"IATA_CODE\",\n",
    "    how=\"left\"\n",
    ")"
   ]
  },
  {
   "cell_type": "code",
   "execution_count": 4,
   "metadata": {},
   "outputs": [],
   "source": [
    "# drop reduntant column\n",
    "df_master.drop(columns=[\"IATA_CODE\"], inplace=True)"
   ]
  },
  {
   "cell_type": "code",
   "execution_count": 6,
   "metadata": {},
   "outputs": [
    {
     "name": "stdout",
     "output_type": "stream",
     "text": [
      "<class 'pandas.core.frame.DataFrame'>\n",
      "RangeIndex: 6743404 entries, 0 to 6743403\n",
      "Data columns (total 30 columns):\n",
      " #   Column              Dtype  \n",
      "---  ------              -----  \n",
      " 0   FlightDate          object \n",
      " 1   Day_Of_Week         int64  \n",
      " 2   Airline             object \n",
      " 3   Tail_Number         object \n",
      " 4   Dep_Airport         object \n",
      " 5   Dep_CityName        object \n",
      " 6   DepTime_label       object \n",
      " 7   Dep_Delay           int64  \n",
      " 8   Dep_Delay_Tag       int64  \n",
      " 9   Dep_Delay_Type      object \n",
      " 10  Arr_Airport         object \n",
      " 11  Arr_CityName        object \n",
      " 12  Arr_Delay           int64  \n",
      " 13  Arr_Delay_Type      object \n",
      " 14  Flight_Duration     int64  \n",
      " 15  Distance_type       object \n",
      " 16  Delay_Carrier       int64  \n",
      " 17  Delay_Weather       int64  \n",
      " 18  Delay_NAS           int64  \n",
      " 19  Delay_Security      int64  \n",
      " 20  Delay_LastAircraft  int64  \n",
      " 21  Manufacturer        object \n",
      " 22  Model               object \n",
      " 23  Aicraft_age         int64  \n",
      " 24  AIRPORT             object \n",
      " 25  CITY                object \n",
      " 26  STATE               object \n",
      " 27  COUNTRY             object \n",
      " 28  LATITUDE            float64\n",
      " 29  LONGITUDE           float64\n",
      "dtypes: float64(2), int64(11), object(17)\n",
      "memory usage: 1.5+ GB\n"
     ]
    }
   ],
   "source": [
    "# show df\n",
    "df_master.info()"
   ]
  },
  {
   "cell_type": "code",
   "execution_count": 7,
   "metadata": {},
   "outputs": [],
   "source": [
    "# convert date column in weather data to datetime format\n",
    "df_meteo[\"time\"] = pd.to_datetime(df_meteo[\"time\"])\n",
    "df_master[\"FlightDate\"] = pd.to_datetime(df_master[\"FlightDate\"])"
   ]
  },
  {
   "cell_type": "code",
   "execution_count": 8,
   "metadata": {},
   "outputs": [],
   "source": [
    "# perform left join meteo data\n",
    "df_master = df_master.merge(\n",
    "    df_meteo,\n",
    "    left_on=[\"FlightDate\", \"Dep_Airport\"],\n",
    "    right_on=[\"time\", \"airport_id\"],\n",
    "    how=\"left\"\n",
    ")"
   ]
  },
  {
   "cell_type": "code",
   "execution_count": 9,
   "metadata": {},
   "outputs": [],
   "source": [
    "# drop redundant columns\n",
    "df_master.drop(columns=[\"time\", \"airport_id\"], inplace=True)"
   ]
  },
  {
   "cell_type": "code",
   "execution_count": 10,
   "metadata": {},
   "outputs": [
    {
     "name": "stdout",
     "output_type": "stream",
     "text": [
      "<class 'pandas.core.frame.DataFrame'>\n",
      "RangeIndex: 6743404 entries, 0 to 6743403\n",
      "Data columns (total 38 columns):\n",
      " #   Column              Dtype         \n",
      "---  ------              -----         \n",
      " 0   FlightDate          datetime64[ns]\n",
      " 1   Day_Of_Week         int64         \n",
      " 2   Airline             object        \n",
      " 3   Tail_Number         object        \n",
      " 4   Dep_Airport         object        \n",
      " 5   Dep_CityName        object        \n",
      " 6   DepTime_label       object        \n",
      " 7   Dep_Delay           int64         \n",
      " 8   Dep_Delay_Tag       int64         \n",
      " 9   Dep_Delay_Type      object        \n",
      " 10  Arr_Airport         object        \n",
      " 11  Arr_CityName        object        \n",
      " 12  Arr_Delay           int64         \n",
      " 13  Arr_Delay_Type      object        \n",
      " 14  Flight_Duration     int64         \n",
      " 15  Distance_type       object        \n",
      " 16  Delay_Carrier       int64         \n",
      " 17  Delay_Weather       int64         \n",
      " 18  Delay_NAS           int64         \n",
      " 19  Delay_Security      int64         \n",
      " 20  Delay_LastAircraft  int64         \n",
      " 21  Manufacturer        object        \n",
      " 22  Model               object        \n",
      " 23  Aicraft_age         int64         \n",
      " 24  AIRPORT             object        \n",
      " 25  CITY                object        \n",
      " 26  STATE               object        \n",
      " 27  COUNTRY             object        \n",
      " 28  LATITUDE            float64       \n",
      " 29  LONGITUDE           float64       \n",
      " 30  tavg                float64       \n",
      " 31  tmin                float64       \n",
      " 32  tmax                float64       \n",
      " 33  prcp                float64       \n",
      " 34  snow                float64       \n",
      " 35  wdir                float64       \n",
      " 36  wspd                float64       \n",
      " 37  pres                float64       \n",
      "dtypes: datetime64[ns](1), float64(10), int64(11), object(16)\n",
      "memory usage: 1.9+ GB\n"
     ]
    }
   ],
   "source": [
    "# show df\n",
    "df_master.info()"
   ]
  },
  {
   "cell_type": "code",
   "execution_count": 11,
   "metadata": {},
   "outputs": [],
   "source": [
    "# convert date column to datetime format\n",
    "df_cancelled_diverted[\"FlightDate\"] = pd.to_datetime(df_cancelled_diverted[\"FlightDate\"])\n",
    "\n",
    "# select relevant columns\n",
    "df_cancelled_diverted = df_cancelled_diverted[[\"FlightDate\", \"Tail_Number\", \"Cancelled\", \"Diverted\"]]\n",
    "\n",
    "# perform join operation\n",
    "df_master = df_master.merge(\n",
    "    df_cancelled_diverted,\n",
    "    on=[\"FlightDate\", \"Tail_Number\"],\n",
    "    how=\"left\"\n",
    ")\n",
    "\n",
    "# fill NaN values with 0 if exist\n",
    "df_master[\"Cancelled\"] = df_master[\"Cancelled\"].fillna(0).astype(int)\n",
    "df_master[\"Diverted\"] = df_master[\"Diverted\"].fillna(0).astype(int)"
   ]
  },
  {
   "cell_type": "code",
   "execution_count": 12,
   "metadata": {},
   "outputs": [
    {
     "name": "stdout",
     "output_type": "stream",
     "text": [
      "<class 'pandas.core.frame.DataFrame'>\n",
      "RangeIndex: 6825926 entries, 0 to 6825925\n",
      "Data columns (total 40 columns):\n",
      " #   Column              Dtype         \n",
      "---  ------              -----         \n",
      " 0   FlightDate          datetime64[ns]\n",
      " 1   Day_Of_Week         int64         \n",
      " 2   Airline             object        \n",
      " 3   Tail_Number         object        \n",
      " 4   Dep_Airport         object        \n",
      " 5   Dep_CityName        object        \n",
      " 6   DepTime_label       object        \n",
      " 7   Dep_Delay           int64         \n",
      " 8   Dep_Delay_Tag       int64         \n",
      " 9   Dep_Delay_Type      object        \n",
      " 10  Arr_Airport         object        \n",
      " 11  Arr_CityName        object        \n",
      " 12  Arr_Delay           int64         \n",
      " 13  Arr_Delay_Type      object        \n",
      " 14  Flight_Duration     int64         \n",
      " 15  Distance_type       object        \n",
      " 16  Delay_Carrier       int64         \n",
      " 17  Delay_Weather       int64         \n",
      " 18  Delay_NAS           int64         \n",
      " 19  Delay_Security      int64         \n",
      " 20  Delay_LastAircraft  int64         \n",
      " 21  Manufacturer        object        \n",
      " 22  Model               object        \n",
      " 23  Aicraft_age         int64         \n",
      " 24  AIRPORT             object        \n",
      " 25  CITY                object        \n",
      " 26  STATE               object        \n",
      " 27  COUNTRY             object        \n",
      " 28  LATITUDE            float64       \n",
      " 29  LONGITUDE           float64       \n",
      " 30  tavg                float64       \n",
      " 31  tmin                float64       \n",
      " 32  tmax                float64       \n",
      " 33  prcp                float64       \n",
      " 34  snow                float64       \n",
      " 35  wdir                float64       \n",
      " 36  wspd                float64       \n",
      " 37  pres                float64       \n",
      " 38  Cancelled           int64         \n",
      " 39  Diverted            int64         \n",
      "dtypes: datetime64[ns](1), float64(10), int64(13), object(16)\n",
      "memory usage: 2.0+ GB\n"
     ]
    }
   ],
   "source": [
    "# show df\n",
    "df_master.info()"
   ]
  },
  {
   "cell_type": "code",
   "execution_count": 13,
   "metadata": {},
   "outputs": [
    {
     "name": "stdout",
     "output_type": "stream",
     "text": [
      "File succesfully saved to c:\\Users\\emreo\\Desktop\\ZHAW\\PGA\\flight_delays\\data\\processed\\master_file.csv\n"
     ]
    }
   ],
   "source": [
    "# save file to output path\n",
    "output_path = os.path.join (base_path, \"data\", \"processed\", \"master_file.csv\")\n",
    "df_master.to_csv(output_path, index=False)\n",
    "print (f\"File succesfully saved to {output_path}\")"
   ]
  }
 ],
 "metadata": {
  "kernelspec": {
   "display_name": ".venv",
   "language": "python",
   "name": "python3"
  },
  "language_info": {
   "codemirror_mode": {
    "name": "ipython",
    "version": 3
   },
   "file_extension": ".py",
   "mimetype": "text/x-python",
   "name": "python",
   "nbconvert_exporter": "python",
   "pygments_lexer": "ipython3",
   "version": "3.11.0"
  }
 },
 "nbformat": 4,
 "nbformat_minor": 2
}
